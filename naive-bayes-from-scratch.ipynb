{
 "cells": [
  {
   "cell_type": "code",
   "execution_count": 1,
   "metadata": {
    "_cell_guid": "b1076dfc-b9ad-4769-8c92-a6c4dae69d19",
    "_uuid": "8f2839f25d086af736a60e9eeb907d3b93b6e0e5"
   },
   "outputs": [],
   "source": [
    "import numpy as np\n",
    "import pandas as pd \n",
    "import re\n",
    "import matplotlib.pyplot as plt\n",
    "from sklearn.model_selection import train_test_split"
   ]
  },
  {
   "cell_type": "code",
   "execution_count": 2,
   "metadata": {
    "_cell_guid": "79c7e3d0-c299-4dcb-8224-4455121ee9b0",
    "_uuid": "d629ff2d2480ee46fbb7e2d37f6b5fab8052498a"
   },
   "outputs": [
    {
     "data": {
      "text/plain": [
       "(25000, 3)"
      ]
     },
     "execution_count": 2,
     "metadata": {},
     "output_type": "execute_result"
    }
   ],
   "source": [
    "df = pd.read_csv('../input/labeledTrainData.tsv', sep='\\t')\n",
    "df.shape"
   ]
  },
  {
   "cell_type": "code",
   "execution_count": 3,
   "metadata": {},
   "outputs": [
    {
     "data": {
      "text/html": [
       "<div>\n",
       "<style scoped>\n",
       "    .dataframe tbody tr th:only-of-type {\n",
       "        vertical-align: middle;\n",
       "    }\n",
       "\n",
       "    .dataframe tbody tr th {\n",
       "        vertical-align: top;\n",
       "    }\n",
       "\n",
       "    .dataframe thead th {\n",
       "        text-align: right;\n",
       "    }\n",
       "</style>\n",
       "<table border=\"1\" class=\"dataframe\">\n",
       "  <thead>\n",
       "    <tr style=\"text-align: right;\">\n",
       "      <th></th>\n",
       "      <th>id</th>\n",
       "      <th>sentiment</th>\n",
       "      <th>review</th>\n",
       "    </tr>\n",
       "  </thead>\n",
       "  <tbody>\n",
       "    <tr>\n",
       "      <th>0</th>\n",
       "      <td>5814_8</td>\n",
       "      <td>1</td>\n",
       "      <td>With all this stuff going down at the moment w...</td>\n",
       "    </tr>\n",
       "    <tr>\n",
       "      <th>1</th>\n",
       "      <td>2381_9</td>\n",
       "      <td>1</td>\n",
       "      <td>\\The Classic War of the Worlds\\\" by Timothy Hi...</td>\n",
       "    </tr>\n",
       "    <tr>\n",
       "      <th>2</th>\n",
       "      <td>7759_3</td>\n",
       "      <td>0</td>\n",
       "      <td>The film starts with a manager (Nicholas Bell)...</td>\n",
       "    </tr>\n",
       "    <tr>\n",
       "      <th>3</th>\n",
       "      <td>3630_4</td>\n",
       "      <td>0</td>\n",
       "      <td>It must be assumed that those who praised this...</td>\n",
       "    </tr>\n",
       "    <tr>\n",
       "      <th>4</th>\n",
       "      <td>9495_8</td>\n",
       "      <td>1</td>\n",
       "      <td>Superbly trashy and wondrously unpretentious 8...</td>\n",
       "    </tr>\n",
       "  </tbody>\n",
       "</table>\n",
       "</div>"
      ],
      "text/plain": [
       "       id  sentiment                                             review\n",
       "0  5814_8          1  With all this stuff going down at the moment w...\n",
       "1  2381_9          1  \\The Classic War of the Worlds\\\" by Timothy Hi...\n",
       "2  7759_3          0  The film starts with a manager (Nicholas Bell)...\n",
       "3  3630_4          0  It must be assumed that those who praised this...\n",
       "4  9495_8          1  Superbly trashy and wondrously unpretentious 8..."
      ]
     },
     "execution_count": 3,
     "metadata": {},
     "output_type": "execute_result"
    }
   ],
   "source": [
    "df.head()"
   ]
  },
  {
   "cell_type": "code",
   "execution_count": 4,
   "metadata": {},
   "outputs": [],
   "source": [
    "xtrain, xvali, ytrain, yvali = train_test_split(df.review, df.sentiment, test_size=0.2, random_state=0)"
   ]
  },
  {
   "cell_type": "markdown",
   "metadata": {},
   "source": [
    "## Buid Vocabulary"
   ]
  },
  {
   "cell_type": "code",
   "execution_count": 5,
   "metadata": {},
   "outputs": [],
   "source": [
    "def CleanDocument(document):\n",
    "    # replace < br/> with new_line_tag\n",
    "    clean_doc = re.sub(r'\\<br /\\>', 'new_line_tag ', document)\n",
    "    # remove punctuation\n",
    "    clean_doc = re.sub(r'\\W', ' ', clean_doc)\n",
    "    # map numbers to NUMBERS\n",
    "    return clean_doc.lower()"
   ]
  },
  {
   "cell_type": "code",
   "execution_count": 6,
   "metadata": {},
   "outputs": [
    {
     "data": {
      "text/plain": [
       "10263    prisons are not exactly renowned for their kin...\n",
       "18409    this movie has a great message a impressive ca...\n",
       "13047    this is a quirky little movie  and i have to a...\n",
       "21371    star rating        saturday night      friday ...\n",
       "16392    this movie is a lot of fun  what makes it grea...\n",
       "Name: review, dtype: object"
      ]
     },
     "execution_count": 6,
     "metadata": {},
     "output_type": "execute_result"
    }
   ],
   "source": [
    "# clean train data\n",
    "xtrain_after_clean = xtrain.apply(CleanDocument)\n",
    "xtrain_after_clean.head()"
   ]
  },
  {
   "cell_type": "code",
   "execution_count": 7,
   "metadata": {},
   "outputs": [],
   "source": [
    "# map word to id\n",
    "def GetVocabulary(data):\n",
    "    vocabulary = dict()\n",
    "    wid = 0\n",
    "    for document in data:\n",
    "        words = document.split()\n",
    "        for w in words:\n",
    "            if w not in vocabulary:\n",
    "                vocabulary[w] = wid\n",
    "                wid += 1\n",
    "    return vocabulary\n",
    "\n",
    "vocab_dict = GetVocabulary(xtrain_after_clean)"
   ]
  },
  {
   "cell_type": "code",
   "execution_count": 8,
   "metadata": {},
   "outputs": [],
   "source": [
    "# convert document to vectors\n",
    "def Document2Vector(document, vocabulary):\n",
    "    doc_vec = np.zeros(len(vocabulary))\n",
    "    out_of_voc = 0\n",
    "\n",
    "    words = document.split()\n",
    "    for w in words:\n",
    "        if w in vocabulary:\n",
    "            wid = vocabulary[w]\n",
    "            doc_vec[wid] += 1\n",
    "        else:\n",
    "            out_of_voc += 1\n",
    "    return doc_vec, out_of_voc\n"
   ]
  },
  {
   "cell_type": "code",
   "execution_count": 9,
   "metadata": {},
   "outputs": [
    {
     "name": "stdout",
     "output_type": "stream",
     "text": [
      "20000\n",
      "[1. 6. 5. ... 0. 0. 0.]\n"
     ]
    }
   ],
   "source": [
    "train_matrix = []\n",
    "\n",
    "for document in xtrain_after_clean:\n",
    "    doc_vec, _ = Document2Vector(document,vocab_dict)\n",
    "    train_matrix.append(doc_vec)\n",
    "\n",
    "print(len(train_matrix))\n",
    "print(train_matrix[0])"
   ]
  },
  {
   "cell_type": "code",
   "execution_count": 10,
   "metadata": {},
   "outputs": [
    {
     "name": "stdout",
     "output_type": "stream",
     "text": [
      "Training 2000/20000...\n",
      "Training 4000/20000...\n",
      "Training 6000/20000...\n",
      "Training 8000/20000...\n",
      "Training 10000/20000...\n",
      "Training 12000/20000...\n",
      "Training 14000/20000...\n",
      "Training 16000/20000...\n",
      "Training 18000/20000...\n",
      "Training 20000/20000...\n"
     ]
    }
   ],
   "source": [
    "def NaiveBayes_train(train_matrix, labels):\n",
    "    '''\n",
    "    Calculate the log of p(pos), p(neg), p(word|pos) vector, p(word|neg) vector\n",
    "    '''\n",
    "    num_docs = len(train_matrix)\n",
    "    num_words = len(train_matrix[0])\n",
    "    \n",
    "    pos_count, neg_count = 0, 0\n",
    "    pos_total_word, neg_total_word = 0, 0\n",
    "    pos_word_vector = np.ones(num_words)\n",
    "    neg_word_vector = np.ones(num_words)\n",
    "    \n",
    "    for i in range(num_docs):\n",
    "        if (i + 1) % 2000 == 0:\n",
    "            print('Training %d/%d...' % (i+1, num_docs))\n",
    "        if labels[i] == 1:\n",
    "            pos_count += 1\n",
    "            pos_total_word += sum(train_matrix[i])\n",
    "            pos_word_vector += train_matrix[i]\n",
    "        else:\n",
    "            neg_count += 1\n",
    "            neg_total_word += sum(train_matrix[i])\n",
    "            neg_word_vector += train_matrix[i]\n",
    "            \n",
    "    p_pos = np.log(pos_count / num_docs)\n",
    "    p_neg = np.log(neg_count / num_docs)\n",
    "    p_pos_word_vector = np.log(pos_word_vector / (pos_total_word + num_words))\n",
    "    p_neg_word_vector = np.log(neg_word_vector / (neg_total_word + num_words))\n",
    "    \n",
    "    return p_pos, p_pos_word_vector, p_neg, p_neg_word_vector, pos_total_word, neg_total_word\n",
    "\n",
    "\n",
    "p_pos, p_pos_word_vector, p_neg, p_neg_word_vector, pos_total_word, neg_total_word = NaiveBayes_train(train_matrix, ytrain.values)"
   ]
  },
  {
   "cell_type": "code",
   "execution_count": 11,
   "metadata": {},
   "outputs": [],
   "source": [
    "# making predictions with NB classifier\n",
    "def predict(test_vector, p_pos, p_pos_word_vector, p_neg, p_neg_word_vector, pos_smoothing, neg_smoothing):\n",
    "    pos = np.sum(test_vector * p_pos_word_vector) + p_pos + pos_smoothing\n",
    "    neg = np.sum(test_vector * p_neg_word_vector) + p_neg + neg_smoothing\n",
    "    if pos > neg:\n",
    "        return 1\n",
    "    else:\n",
    "        return 0"
   ]
  },
  {
   "cell_type": "markdown",
   "metadata": {},
   "source": [
    "## Predictions on validation set"
   ]
  },
  {
   "cell_type": "code",
   "execution_count": 12,
   "metadata": {},
   "outputs": [
    {
     "name": "stdout",
     "output_type": "stream",
     "text": [
      "Testing 500/5000...\n",
      "Testing 1000/5000...\n",
      "Testing 1500/5000...\n",
      "Testing 2000/5000...\n",
      "Testing 2500/5000...\n",
      "Testing 3000/5000...\n",
      "Testing 3500/5000...\n",
      "Testing 4000/5000...\n",
      "Testing 4500/5000...\n",
      "Testing 5000/5000...\n"
     ]
    }
   ],
   "source": [
    "# clean validation set\n",
    "xvali_after_clean = xvali.apply(CleanDocument)\n",
    "num_words = len(vocab_dict)\n",
    "pred_vali = []\n",
    "\n",
    "for i, document in enumerate(xvali_after_clean):\n",
    "    if (i + 1) % 500 == 0:\n",
    "        print('Testing %d/%d...' % (i + 1, xvali_after_clean.shape[0]))\n",
    "    test_vec, out_of_voc = Document2Vector(document, vocab_dict)\n",
    "    if out_of_voc == 0:\n",
    "        pos_smoothing, neg_smoothing = 0, 0\n",
    "    else:\n",
    "        pos_smoothing = np.log(out_of_voc / (pos_total_word + num_words))\n",
    "        neg_smoothing = np.log(out_of_voc / (neg_total_word + num_words))\n",
    "        \n",
    "    output = predict(test_vec, p_pos, p_pos_word_vector, p_neg, p_neg_word_vector, pos_smoothing, neg_smoothing)\n",
    "    pred_vali.append(output)"
   ]
  },
  {
   "cell_type": "code",
   "execution_count": 13,
   "metadata": {},
   "outputs": [
    {
     "name": "stdout",
     "output_type": "stream",
     "text": [
      "Accuracy score: 0.8588\n",
      "Classificatin report: \n",
      "              precision    recall  f1-score   support\n",
      "\n",
      "           0       0.84      0.89      0.87      2548\n",
      "           1       0.88      0.82      0.85      2452\n",
      "\n",
      "    accuracy                           0.86      5000\n",
      "   macro avg       0.86      0.86      0.86      5000\n",
      "weighted avg       0.86      0.86      0.86      5000\n",
      "\n",
      "Confusion matrix: \n",
      "[[2276  272]\n",
      " [ 434 2018]]\n"
     ]
    }
   ],
   "source": [
    "# evaluate model\n",
    "from sklearn.metrics import accuracy_score, classification_report, confusion_matrix\n",
    "\n",
    "print('Accuracy score: %s' % (accuracy_score(yvali, pred_vali)))\n",
    "print('Classificatin report: ')\n",
    "print(classification_report(yvali, pred_vali))\n",
    "print('Confusion matrix: ')\n",
    "print(confusion_matrix(yvali, pred_vali))"
   ]
  },
  {
   "cell_type": "code",
   "execution_count": null,
   "metadata": {},
   "outputs": [],
   "source": []
  }
 ],
 "metadata": {
  "kernelspec": {
   "display_name": "Python 3",
   "language": "python",
   "name": "python3"
  },
  "language_info": {
   "codemirror_mode": {
    "name": "ipython",
    "version": 3
   },
   "file_extension": ".py",
   "mimetype": "text/x-python",
   "name": "python",
   "nbconvert_exporter": "python",
   "pygments_lexer": "ipython3",
   "version": "3.6.6"
  }
 },
 "nbformat": 4,
 "nbformat_minor": 1
}
